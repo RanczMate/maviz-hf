{
 "cells": [
  {
   "cell_type": "code",
   "execution_count": 5,
   "id": "c312b5e3",
   "metadata": {},
   "outputs": [
    {
     "data": {
      "text/plain": [
       "Unnamed: 0         object\n",
       "Unnamed: 1          int64\n",
       "Idő                object\n",
       "Név                object\n",
       "Konzulens          object\n",
       "Külső konzulens    object\n",
       "Vizsgatárgy        object\n",
       "Unnamed: 7         object\n",
       "Vizsgáztató        object\n",
       "Elnök              object\n",
       "Tag                object\n",
       "Tag.1              object\n",
       "Titkár             object\n",
       "Vizsgaztato1       object\n",
       "Vizsgaztato2       object\n",
       "Vizsgatargy1       object\n",
       "Vizsgatargy2       object\n",
       "dtype: object"
      ]
     },
     "execution_count": 5,
     "metadata": {},
     "output_type": "execute_result"
    }
   ],
   "source": [
    "%matplotlib inline\n",
    "import math\n",
    "import pandas as pd\n",
    "import matplotlib.pyplot as plt\n",
    "import numpy as np\n",
    "from collections import Counter\n",
    "\n",
    "plt.style.use('ggplot')\n",
    "plt.rcParams['figure.figsize'] = (15, 5)\n",
    "\n",
    "schedule = pd.read_excel('db/14_beosztas_2009_tava.xls')\n",
    "schedule['Vizsgaztato1'] = schedule['Vizsgáztató'].str.split(\"\\n\").str[0]\n",
    "schedule['Vizsgaztato2'] = schedule['Vizsgáztató'].str.split(\"\\n\").str[1]\n",
    "schedule['Vizsgatargy1'] = schedule['Vizsgatárgy'].str.split(\"\\n\").str[0]\n",
    "schedule['Vizsgatargy2'] = schedule['Vizsgatárgy'].str.split(\"\\n\").str[1]\n",
    "\n",
    "schedule.dtypes"
   ]
  },
  {
   "cell_type": "code",
   "execution_count": null,
   "id": "6c0ebda7",
   "metadata": {},
   "outputs": [],
   "source": []
  }
 ],
 "metadata": {
  "kernelspec": {
   "display_name": "Python 3 (ipykernel)",
   "language": "python",
   "name": "python3"
  },
  "language_info": {
   "codemirror_mode": {
    "name": "ipython",
    "version": 3
   },
   "file_extension": ".py",
   "mimetype": "text/x-python",
   "name": "python",
   "nbconvert_exporter": "python",
   "pygments_lexer": "ipython3",
   "version": "3.9.7"
  }
 },
 "nbformat": 4,
 "nbformat_minor": 5
}
